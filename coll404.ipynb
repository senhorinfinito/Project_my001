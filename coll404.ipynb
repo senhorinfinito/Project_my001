{
 "cells": [
  {
   "cell_type": "code",
   "execution_count": 1,
   "metadata": {},
   "outputs": [],
   "source": [
    "#import libraries _Machine Leearing Library\n",
    "from sklearn.cluster import KMeans\n",
    "#import libraries _matrix calculation library\n",
    "import pandas as pd\n",
    "#import libraries _scaling if needed\n",
    "from sklearn.preprocessing import MinMaxScaler\n",
    "#import libraries _visulise data\n",
    "from matplotlib import pyplot as plt\n",
    "%matplotlib inline"
   ]
  },
  {
   "cell_type": "code",
   "execution_count": 2,
   "metadata": {},
   "outputs": [],
   "source": [
    "pd.set_option('display.max_colwidth', None)\n",
    "# file location setting up"
   ]
  },
  {
   "cell_type": "code",
   "execution_count": 4,
   "metadata": {},
   "outputs": [
    {
     "data": {
      "text/html": [
       "<div>\n",
       "<style scoped>\n",
       "    .dataframe tbody tr th:only-of-type {\n",
       "        vertical-align: middle;\n",
       "    }\n",
       "\n",
       "    .dataframe tbody tr th {\n",
       "        vertical-align: top;\n",
       "    }\n",
       "\n",
       "    .dataframe thead th {\n",
       "        text-align: right;\n",
       "    }\n",
       "</style>\n",
       "<table border=\"1\" class=\"dataframe\">\n",
       "  <thead>\n",
       "    <tr style=\"text-align: right;\">\n",
       "      <th></th>\n",
       "      <th>Location</th>\n",
       "      <th>Latitude</th>\n",
       "      <th>Longitude</th>\n",
       "    </tr>\n",
       "  </thead>\n",
       "  <tbody>\n",
       "    <tr>\n",
       "      <th>0</th>\n",
       "      <td>Amouli, Uttar Pradesh 221104, India\\n</td>\n",
       "      <td>25.392467</td>\n",
       "      <td>83.150159</td>\n",
       "    </tr>\n",
       "    <tr>\n",
       "      <th>1</th>\n",
       "      <td>Siristi, Uttar Pradesh 221104, India\\n</td>\n",
       "      <td>25.403881</td>\n",
       "      <td>83.142117</td>\n",
       "    </tr>\n",
       "    <tr>\n",
       "      <th>2</th>\n",
       "      <td>Chandrawati, Uttar Pradesh, India\\n</td>\n",
       "      <td>25.466361</td>\n",
       "      <td>83.126822</td>\n",
       "    </tr>\n",
       "    <tr>\n",
       "      <th>3</th>\n",
       "      <td>Rampur Chandrawati, Uttar Pradesh, India\\n</td>\n",
       "      <td>25.461943</td>\n",
       "      <td>83.123348</td>\n",
       "    </tr>\n",
       "    <tr>\n",
       "      <th>4</th>\n",
       "      <td>Padao Rd, Near Rajguru House, Padao, Jalil Pur, Varanasi, Uttar Pradesh 221102, India\\n</td>\n",
       "      <td>25.316477</td>\n",
       "      <td>83.115390</td>\n",
       "    </tr>\n",
       "  </tbody>\n",
       "</table>\n",
       "</div>"
      ],
      "text/plain": [
       "                                                                                  Location  \\\n",
       "0                                                    Amouli, Uttar Pradesh 221104, India\\n   \n",
       "1                                                   Siristi, Uttar Pradesh 221104, India\\n   \n",
       "2                                                      Chandrawati, Uttar Pradesh, India\\n   \n",
       "3                                               Rampur Chandrawati, Uttar Pradesh, India\\n   \n",
       "4  Padao Rd, Near Rajguru House, Padao, Jalil Pur, Varanasi, Uttar Pradesh 221102, India\\n   \n",
       "\n",
       "    Latitude  Longitude  \n",
       "0  25.392467  83.150159  \n",
       "1  25.403881  83.142117  \n",
       "2  25.466361  83.126822  \n",
       "3  25.461943  83.123348  \n",
       "4  25.316477  83.115390  "
      ]
     },
     "execution_count": 4,
     "metadata": {},
     "output_type": "execute_result"
    }
   ],
   "source": [
    "df = pd.read_csv(\"detail_info.csv\")\n",
    "df.head()\n",
    "# read data file obtained from dist_cal.py"
   ]
  },
  {
   "cell_type": "code",
   "execution_count": 5,
   "metadata": {},
   "outputs": [
    {
     "data": {
      "text/plain": [
       "Text(0, 0.5, 'Longitude')"
      ]
     },
     "execution_count": 5,
     "metadata": {},
     "output_type": "execute_result"
    },
    {
     "data": {
      "image/png": "[encoded data removed]",
      "text/plain": [
       "<Figure size 432x288 with 1 Axes>"
      ]
     },
     "metadata": {
      "needs_background": "light"
     },
     "output_type": "display_data"
    }
   ],
   "source": [
    "plt.scatter(df.Latitude, df.Longitude)\n",
    "plt.xlabel('Latitude')\n",
    "plt.ylabel('Longitude')\n",
    "\n",
    "# load data on scatter plot to visualisation of data"
   ]
  },
  {
   "cell_type": "code",
   "execution_count": null,
   "metadata": {},
   "outputs": [],
   "source": [
    "# Upload KMean MAchine Learing library to calculate Euclidian distance calculation\n",
    "# intilise random number of cluster\n",
    "km = KMeans(n_clusters=9)\n",
    "# predict by using machinne learning best fit data\n",
    "y_predicted = km.fit_predict(df[['Latitude','Longitude']])\n",
    "# print data \n",
    "y_predicted"
   ]
  },
  {
   "cell_type": "code",
   "execution_count": 7,
   "metadata": {},
   "outputs": [
    {
     "ename": "NameError",
     "evalue": "name 'y_predicted' is not defined",
     "output_type": "error",
     "traceback": [
      "\u001b[1;31m---------------------------------------------------------------------------\u001b[0m",
      "\u001b[1;31mNameError\u001b[0m                                 Traceback (most recent call last)",
      "\u001b[1;32m<ipython-input-7-3e403b23845c>\u001b[0m in \u001b[0;36m<module>\u001b[1;34m\u001b[0m\n\u001b[0;32m      1\u001b[0m \u001b[1;31m# assign cluster number to file\u001b[0m\u001b[1;33m\u001b[0m\u001b[1;33m\u001b[0m\u001b[1;33m\u001b[0m\u001b[0m\n\u001b[1;32m----> 2\u001b[1;33m \u001b[0mdf\u001b[0m\u001b[1;33m[\u001b[0m\u001b[1;34m'cluster'\u001b[0m\u001b[1;33m]\u001b[0m\u001b[1;33m=\u001b[0m\u001b[0my_predicted\u001b[0m\u001b[1;33m\u001b[0m\u001b[1;33m\u001b[0m\u001b[0m\n\u001b[0m\u001b[0;32m      3\u001b[0m \u001b[0mdf\u001b[0m\u001b[1;33m.\u001b[0m\u001b[0mhead\u001b[0m\u001b[1;33m(\u001b[0m\u001b[1;33m)\u001b[0m\u001b[1;33m\u001b[0m\u001b[1;33m\u001b[0m\u001b[0m\n\u001b[0;32m      4\u001b[0m \u001b[0mdf\u001b[0m\u001b[1;33m.\u001b[0m\u001b[0mto_csv\u001b[0m\u001b[1;33m(\u001b[0m\u001b[1;34m\"finalclusters.csv\"\u001b[0m\u001b[1;33m)\u001b[0m\u001b[1;33m\u001b[0m\u001b[1;33m\u001b[0m\u001b[0m\n\u001b[0;32m      5\u001b[0m \u001b[1;31m# final cluster used to visualise on google map\u001b[0m\u001b[1;33m\u001b[0m\u001b[1;33m\u001b[0m\u001b[1;33m\u001b[0m\u001b[0m\n",
      "\u001b[1;31mNameError\u001b[0m: name 'y_predicted' is not defined"
     ]
    }
   ],
   "source": [
    "# assign cluster number to file\n",
    "df['cluster']=y_predicted\n",
    "df.head()\n",
    "df.to_csv(\"finalclusters.csv\")\n",
    "# final cluster used to visualise on google map\n"
   ]
  },
  {
   "cell_type": "code",
   "execution_count": 8,
   "metadata": {},
   "outputs": [
    {
     "ename": "NameError",
     "evalue": "name 'km' is not defined",
     "output_type": "error",
     "traceback": [
      "\u001b[1;31m---------------------------------------------------------------------------\u001b[0m",
      "\u001b[1;31mNameError\u001b[0m                                 Traceback (most recent call last)",
      "\u001b[1;32m<ipython-input-8-63c380438eb5>\u001b[0m in \u001b[0;36m<module>\u001b[1;34m\u001b[0m\n\u001b[0;32m      1\u001b[0m \u001b[1;31m# CG print\u001b[0m\u001b[1;33m\u001b[0m\u001b[1;33m\u001b[0m\u001b[1;33m\u001b[0m\u001b[0m\n\u001b[1;32m----> 2\u001b[1;33m \u001b[0mcentroids\u001b[0m \u001b[1;33m=\u001b[0m \u001b[0mkm\u001b[0m\u001b[1;33m.\u001b[0m\u001b[0mcluster_centers_\u001b[0m\u001b[1;33m\u001b[0m\u001b[1;33m\u001b[0m\u001b[0m\n\u001b[0m\u001b[0;32m      3\u001b[0m \u001b[0ma\u001b[0m \u001b[1;33m=\u001b[0m \u001b[0mcentroids\u001b[0m\u001b[1;33m\u001b[0m\u001b[1;33m\u001b[0m\u001b[0m\n\u001b[0;32m      4\u001b[0m \u001b[1;32mwith\u001b[0m \u001b[0mopen\u001b[0m\u001b[1;33m(\u001b[0m\u001b[1;34m\"cg404.txt\"\u001b[0m\u001b[1;33m,\u001b[0m \u001b[1;34m\"w\"\u001b[0m\u001b[1;33m)\u001b[0m \u001b[1;32mas\u001b[0m \u001b[0moutput\u001b[0m\u001b[1;33m:\u001b[0m\u001b[1;33m\u001b[0m\u001b[1;33m\u001b[0m\u001b[0m\n\u001b[0;32m      5\u001b[0m     \u001b[1;32mfor\u001b[0m \u001b[0mnumber\u001b[0m \u001b[1;32min\u001b[0m \u001b[0ma\u001b[0m\u001b[1;33m:\u001b[0m\u001b[1;33m\u001b[0m\u001b[1;33m\u001b[0m\u001b[0m\n",
      "\u001b[1;31mNameError\u001b[0m: name 'km' is not defined"
     ]
    }
   ],
   "source": [
    "# CG print \n",
    "centroids = km.cluster_centers_\n",
    "a = centroids\n",
    "with open(\"cg404.txt\", \"w\") as output:\n",
    "    for number in a:\n",
    "        output.write(str(number))\n",
    "        output.write('\\n')"
   ]
  },
  {
   "cell_type": "code",
   "execution_count": 1,
   "metadata": {},
   "outputs": [
    {
     "ename": "NameError",
     "evalue": "name 'df' is not defined",
     "output_type": "error",
     "traceback": [
      "\u001b[1;31m---------------------------------------------------------------------------\u001b[0m",
      "\u001b[1;31mNameError\u001b[0m                                 Traceback (most recent call last)",
      "\u001b[1;32m<ipython-input-1-b72f6c47a4a7>\u001b[0m in \u001b[0;36m<module>\u001b[1;34m\u001b[0m\n\u001b[0;32m      1\u001b[0m \u001b[1;31m# clsuter visulization\u001b[0m\u001b[1;33m\u001b[0m\u001b[1;33m\u001b[0m\u001b[1;33m\u001b[0m\u001b[0m\n\u001b[0;32m      2\u001b[0m \u001b[1;31m# datafram(df1) = from_std_data(df)[from_std_data(df) pick clusters numeber(1,2,....n)]\u001b[0m\u001b[1;33m\u001b[0m\u001b[1;33m\u001b[0m\u001b[1;33m\u001b[0m\u001b[0m\n\u001b[1;32m----> 3\u001b[1;33m \u001b[0mdf1\u001b[0m \u001b[1;33m=\u001b[0m \u001b[0mdf\u001b[0m\u001b[1;33m[\u001b[0m\u001b[0mdf\u001b[0m\u001b[1;33m.\u001b[0m\u001b[0mcluster\u001b[0m\u001b[1;33m==\u001b[0m\u001b[1;36m0\u001b[0m\u001b[1;33m]\u001b[0m\u001b[1;33m\u001b[0m\u001b[1;33m\u001b[0m\u001b[0m\n\u001b[0m\u001b[0;32m      4\u001b[0m \u001b[0mdf2\u001b[0m \u001b[1;33m=\u001b[0m \u001b[0mdf\u001b[0m\u001b[1;33m[\u001b[0m\u001b[0mdf\u001b[0m\u001b[1;33m.\u001b[0m\u001b[0mcluster\u001b[0m\u001b[1;33m==\u001b[0m\u001b[1;36m1\u001b[0m\u001b[1;33m]\u001b[0m\u001b[1;33m\u001b[0m\u001b[1;33m\u001b[0m\u001b[0m\n\u001b[0;32m      5\u001b[0m \u001b[0mdf3\u001b[0m \u001b[1;33m=\u001b[0m \u001b[0mdf\u001b[0m\u001b[1;33m[\u001b[0m\u001b[0mdf\u001b[0m\u001b[1;33m.\u001b[0m\u001b[0mcluster\u001b[0m\u001b[1;33m==\u001b[0m\u001b[1;36m2\u001b[0m\u001b[1;33m]\u001b[0m\u001b[1;33m\u001b[0m\u001b[1;33m\u001b[0m\u001b[0m\n",
      "\u001b[1;31mNameError\u001b[0m: name 'df' is not defined"
     ]
    }
   ],
   "source": [
    "# clsuter visulization\n",
    "# datafram(df1) = from_std_data(df)[from_std_data(df) pick clusters numeber(1,2,....n)]\n",
    "df1 = df[df.cluster==0]\n",
    "df2 = df[df.cluster==1]\n",
    "df3 = df[df.cluster==2]\n",
    "df4 = df[df.cluster==3]\n",
    "df5 = df[df.cluster==4]\n",
    "df6 = df[df.cluster==5]\n",
    "df7 = df[df.cluster==6]\n",
    "df8 = df[df.cluster==7]\n",
    "df9 = df[df.cluster==8]\n",
    "\n",
    "# plot each color with identification \n",
    "# plot (type of graph, scatter/histogram)(concern dataframe1,2...n latitude and longitude , color identification)\n",
    "\n",
    "plt.scatter(df1.Latitude,df1.Longitude,color='green')\n",
    "plt.scatter(df2.Latitude,df2.Longitude,color='red')\n",
    "plt.scatter(df3.Latitude,df3.Longitude,color='black')\n",
    "plt.scatter(df4.Latitude,df4.Longitude,color='cyan')\n",
    "plt.scatter(df5.Latitude,df5.Longitude,color='blue')\n",
    "plt.scatter(df6.Latitude,df6.Longitude,color='yellow')\n",
    "plt.scatter(df7.Latitude,df7.Longitude,color='pink')\n",
    "plt.scatter(df8.Latitude,df8.Longitude,color='indigo')\n",
    "plt.scatter(df9.Latitude,df9.Longitude,color='peru')\n",
    "\n",
    "\n",
    "# plot each color with identification \n",
    "# plot (type of graph, scatter/histogram)(concern dataframe1,2...n latitude and longitude , color identification, sand mark with special character and label)\n",
    "\n",
    "plt.scatter(km.cluster_centers_[:,0],km.cluster_centers_[:,1],color='purple',marker='*',label='centroid')\n",
    "\n",
    "# graph present...labeling to axis\n",
    "plt.xlabel('Latitude')\n",
    "plt.ylabel('Longitude')\n",
    "plt.legend()\n",
    "plt.savefig('clusters.png', format = 'png', dpi = 500)"
   ]
  },
  {
   "cell_type": "code",
   "execution_count": 35,
   "metadata": {},
   "outputs": [
    {
     "name": "stdout",
     "output_type": "stream",
     "text": [
      "[4.748441443269536, 2.352506440124736, 1.7652182296109615, 1.2881461923376791, 0.9917710111897091, 0.8580644476237498, 0.7449492690320286, 0.6502658489780763, 0.5754285927574834, 0.5085687076232583, 0.470308765040809, 0.43714440906531327, 0.40971270269240484, 0.37972795620466165]\n"
     ]
    }
   ],
   "source": [
    "# sum of Square of error calcultions\n",
    "sse = []\n",
    "k_rng = range(1,15)\n",
    "for k in k_rng:\n",
    "    km = KMeans(n_clusters=k)\n",
    "    km.fit(df[['Latitude','Longitude']])\n",
    "#     inertia calculate distnce between ezch center and node assigned cluster\n",
    "    sse.append(km.inertia_)\n",
    "print(sse)\n",
    "with open(\"error_sse_1_10__WO_norm.txt\", \"w\") as output:\n",
    "    for number in sse:\n",
    "        output.write(str(number))\n",
    "        output.write('\\n')"
   ]
  },
  {
   "cell_type": "code",
   "execution_count": 36,
   "metadata": {},
   "outputs": [
    {
     "data": {
      "image/png": "[encoded data removed]",
      "text/plain": [
       "<Figure size 432x288 with 1 Axes>"
      ]
     },
     "metadata": {
      "needs_background": "light"
     },
     "output_type": "display_data"
    }
   ],
   "source": [
    "# sse ploting\n",
    "plt.xlabel('K')\n",
    "plt.ylabel('Sum of squared error')\n",
    "plt.plot(k_rng,sse)\n",
    "# save graph with a quality of 200 dpi\n",
    "plt.savefig('SSE.png', format = 'png', dpi = 200)"
   ]
  },
  {
   "cell_type": "code",
   "execution_count": 41,
   "metadata": {},
   "outputs": [
    {
     "name": "stdout",
     "output_type": "stream",
     "text": [
      "add center to corrsoping cluster from cg404.txt \n"
     ]
    }
   ],
   "source": [
    "# clusterwise each file\n",
    "df1.to_csv(\"cluster1.csv\")\n",
    "df2.to_csv(\"cluster2.csv\")\n",
    "df3.to_csv(\"cluster3.csv\")\n",
    "df4.to_csv(\"cluster4.csv\")\n",
    "df5.to_csv(\"cluster5.csv\")\n",
    "df6.to_csv(\"cluster6.csv\")\n",
    "df7.to_csv(\"cluster7.csv\")\n",
    "df8.to_csv(\"cluster8.csv\")\n",
    "df9.to_csv(\"cluster9.csv\")\n",
    "print(\"add center to corrsoping cluster from cg404.txt \")"
   ]
  },
  {
   "cell_type": "code",
   "execution_count": 42,
   "metadata": {},
   "outputs": [
    {
     "name": "stdout",
     "output_type": "stream",
     "text": [
      "if SSE result suggest number of cluster is not optimmum then choose optimum number of cluster from graph\n"
     ]
    }
   ],
   "source": [
    "print(\"if SSE result suggest number of cluster is not optimmum then choose optimum number of cluster from graph\")"
   ]
  },
  {
   "cell_type": "code",
   "execution_count": 43,
   "metadata": {},
   "outputs": [
    {
     "name": "stdout",
     "output_type": "stream",
     "text": [
      "repeat process from above command number in 7###Kmean start\n"
     ]
    }
   ],
   "source": [
    "print(\"repeat process from above command number in 7###Kmean start\")"
   ]
  },
  {
   "cell_type": "code",
   "execution_count": null,
   "metadata": {},
   "outputs": [],
   "source": []
  }
 ],
 "metadata": {
  "kernelspec": {
   "display_name": "Python 3",
   "language": "python",
   "name": "python3"
  },
  "language_info": {
   "codemirror_mode": {
    "name": "ipython",
    "version": 3
   },
   "file_extension": ".py",
   "mimetype": "text/x-python",
   "name": "python",
   "nbconvert_exporter": "python",
   "pygments_lexer": "ipython3",
   "version": "3.8.5"
  }
 },
 "nbformat": 4,
 "nbformat_minor": 4
}
